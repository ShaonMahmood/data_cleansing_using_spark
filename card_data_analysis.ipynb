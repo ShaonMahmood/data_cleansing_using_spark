{
 "cells": [
  {
   "cell_type": "code",
   "execution_count": 55,
   "id": "917de751-fa12-4b3c-a994-e33e7334cf22",
   "metadata": {},
   "outputs": [],
   "source": [
    "import matplotlib.pyplot as plt\n",
    "from pyspark.sql import SparkSession\n",
    "from pyspark.sql.types import StructType, StructField, StringType, IntegerType, TimestampType, BooleanType, DoubleType, NullType, LongType\n",
    "from pyspark.sql.functions import (col, length, udf, from_json, split, current_date,\n",
    "    trim, regexp_replace, when, to_date, date_format, year, month, regexp_extract, from_unixtime, lit, to_timestamp\n",
    ")"
   ]
  },
  {
   "cell_type": "code",
   "execution_count": 56,
   "id": "65a7f35d-d7a5-45c9-a28b-51ec87afce6c",
   "metadata": {},
   "outputs": [],
   "source": [
    "# Initialize SparkSession\n",
    "spark = SparkSession.builder.appName(\"ReadAndAnalyzeCreditCardData\").getOrCreate()"
   ]
  },
  {
   "cell_type": "code",
   "execution_count": 57,
   "id": "800ab2f5-e1e1-4c5f-b248-7bcd2b0a8005",
   "metadata": {},
   "outputs": [],
   "source": [
    "json_path = \"data/cc_transactions.json\""
   ]
  },
  {
   "cell_type": "code",
   "execution_count": 58,
   "id": "8469eef8-f647-4fc0-bf2c-bcb62ee0b00b",
   "metadata": {},
   "outputs": [
    {
     "name": "stderr",
     "output_type": "stream",
     "text": [
      "                                                                                \r"
     ]
    }
   ],
   "source": [
    "# Read the JSON file and infer schema\n",
    "df = spark.read \\\n",
    ".option(\"inferSchema\", \"true\") \\\n",
    ".json(json_path)"
   ]
  },
  {
   "cell_type": "code",
   "execution_count": 59,
   "id": "6a3fa8f2-dc54-4401-b4fa-c612934bdc93",
   "metadata": {},
   "outputs": [
    {
     "name": "stdout",
     "output_type": "stream",
     "text": [
      "root\n",
      " |-- Unnamed: 0: string (nullable = true)\n",
      " |-- amt: string (nullable = true)\n",
      " |-- category: string (nullable = true)\n",
      " |-- cc_bic: string (nullable = true)\n",
      " |-- cc_num: string (nullable = true)\n",
      " |-- is_fraud: string (nullable = true)\n",
      " |-- merch_eff_time: string (nullable = true)\n",
      " |-- merch_last_update_time: string (nullable = true)\n",
      " |-- merch_lat: string (nullable = true)\n",
      " |-- merch_long: string (nullable = true)\n",
      " |-- merch_zipcode: string (nullable = true)\n",
      " |-- merchant: string (nullable = true)\n",
      " |-- personal_detail: string (nullable = true)\n",
      " |-- trans_date_trans_time: string (nullable = true)\n",
      " |-- trans_num: string (nullable = true)\n",
      "\n"
     ]
    }
   ],
   "source": [
    "# Display the schema to understand the structure of the JSON file\n",
    "df.printSchema()"
   ]
  },
  {
   "cell_type": "code",
   "execution_count": 9,
   "id": "4bfce58d-f61d-4c06-a5e2-c83c5b057e2e",
   "metadata": {},
   "outputs": [
    {
     "name": "stderr",
     "output_type": "stream",
     "text": [
      "24/10/24 23:55:37 WARN SparkStringUtils: Truncated the string representation of a plan since it was too large. This behavior can be adjusted by setting 'spark.sql.debug.maxToStringFields'.\n",
      "[Stage 3:>                                                          (0 + 1) / 1]\r"
     ]
    },
    {
     "name": "stdout",
     "output_type": "stream",
     "text": [
      "+-------+-----------------+-----------------+-------------+-------+--------------------+--------------------+--------------------+----------------------+------------------+------------------+------------------+-------------------+--------------------+---------------------+--------------------+\n",
      "|summary|       Unnamed: 0|              amt|     category| cc_bic|              cc_num|            is_fraud|      merch_eff_time|merch_last_update_time|         merch_lat|        merch_long|     merch_zipcode|           merchant|     personal_detail|trans_date_trans_time|           trans_num|\n",
      "+-------+-----------------+-----------------+-------------+-------+--------------------+--------------------+--------------------+----------------------+------------------+------------------+------------------+-------------------+--------------------+---------------------+--------------------+\n",
      "|  count|          1296675|          1296675|      1296675|1296675|             1296675|             1296675|             1296675|               1296675|           1296675|           1296675|           1100702|            1296675|             1296675|              1296675|             1296675|\n",
      "|   mean|         648337.0|70.35103545607011|         NULL|   NULL|4.171920420796849...|0.005788651743883394|1.226971654789972...|  1.226790968939939...| 38.53733804469938|-90.22646479897207| 46825.75415053302|               NULL|                NULL|                 NULL|            Infinity|\n",
      "| stddev|374317.9744882685|160.3160385715278|         NULL|   NULL|1.308806447000239...| 0.07586268973125196|3.678596149934444E14|   3.68057477577883E11|  5.10978836967917| 13.77109056479241|25834.001159599888|               NULL|                NULL|                 NULL|                 NaN|\n",
      "|    min|                0|              1.0|entertainment|       |     180011453250192|                   0|    1325376018798532|         1325376018666|         19.027785|       -100.000064|             01001|fraud_Abbott-Rogahn|{\"person_name\":\"A...|  2019-01-01 00:00:18|00000ecad06b03d3a...|\n",
      "|    25%|         324078.0|             9.65|         NULL|   NULL|  1.8004294649115E14|                 0.0|1.334936693581314E15|     1.334931354139E12|34.732465000000005|        -96.899247|           25113.0|               NULL|                NULL|                 NULL|7.183344251117977E31|\n",
      "|    50%|         648249.0|            47.51|         NULL|   NULL|3.521417320836166E15|                 0.0|1.346514535129034E15|      1.34651406129E12|         39.365451|        -87.438936|           45858.0|               NULL|                NULL|                 NULL|7.183344251117977E31|\n",
      "|    75%|         972462.0|            83.13|         NULL|   NULL|4.642255475285942E15|                 0.0|1.357593417874377E15|     1.357584586707E12|         41.956555|        -80.237925|           68319.0|               NULL|                NULL|                 NULL|            Infinity|\n",
      "|    max|           999999|          9999.39|       travel|   Null|        676372984911|                   1|    1371816817420462|         1371816817611|         67.510267|        -99.999914|             99403|   fraud_Zulauf LLC|{\"person_name\":\"Z...|  2020-06-21 12:13:37|ffffef9d89e7d02d8...|\n",
      "+-------+-----------------+-----------------+-------------+-------+--------------------+--------------------+--------------------+----------------------+------------------+------------------+------------------+-------------------+--------------------+---------------------+--------------------+\n",
      "\n"
     ]
    },
    {
     "name": "stderr",
     "output_type": "stream",
     "text": [
      "                                                                                \r"
     ]
    }
   ],
   "source": [
    "## WE check the summary so that if we can find anything interesting\n",
    "df.summary().show()"
   ]
  },
  {
   "cell_type": "markdown",
   "id": "a228a4c9-d3e9-49cb-b7d9-3d18b6d34cf7",
   "metadata": {},
   "source": [
    "### Data Quality Assurance:\n",
    "\n",
    "We are checking the data types for the values of all columns to find out any unwanted values are there or not. We will be \n",
    "continuously checking the data quality while doing any transformations"
   ]
  },
  {
   "cell_type": "code",
   "execution_count": 10,
   "id": "0ea9426d-bc3e-44aa-89da-543b3c20d945",
   "metadata": {},
   "outputs": [],
   "source": [
    "# Define UDF to classify values\n",
    "def classify_value(value):\n",
    "    if isinstance(value, str):\n",
    "        if value in [\"\", \"NULL\", \"None\", \"NA\", \"Null\"]:\n",
    "            return \"string(NA)\"\n",
    "        return \"string\"\n",
    "    elif isinstance(value, (int, float)):\n",
    "        return \"numeric\"\n",
    "    elif value is None:\n",
    "        return \"null\"\n",
    "    else:\n",
    "        return \"other\""
   ]
  },
  {
   "cell_type": "code",
   "execution_count": 11,
   "id": "fab3c746-6635-4126-839f-69b6a10228d0",
   "metadata": {},
   "outputs": [],
   "source": [
    "# Register UDF\n",
    "classify_udf = udf(classify_value, StringType())"
   ]
  },
  {
   "cell_type": "code",
   "execution_count": 12,
   "id": "0360f24e-4f3d-4319-aaa8-50f5bcf3bf8c",
   "metadata": {},
   "outputs": [
    {
     "name": "stdout",
     "output_type": "stream",
     "text": [
      "Column: Unnamed: 0\n"
     ]
    },
    {
     "name": "stderr",
     "output_type": "stream",
     "text": [
      "                                                                                \r"
     ]
    },
    {
     "name": "stdout",
     "output_type": "stream",
     "text": [
      "+----------+-------+\n",
      "|value_type|  count|\n",
      "+----------+-------+\n",
      "|    string|1296675|\n",
      "+----------+-------+\n",
      "\n",
      "Column: amt\n"
     ]
    },
    {
     "name": "stderr",
     "output_type": "stream",
     "text": [
      "                                                                                \r"
     ]
    },
    {
     "name": "stdout",
     "output_type": "stream",
     "text": [
      "+----------+-------+\n",
      "|value_type|  count|\n",
      "+----------+-------+\n",
      "|    string|1296675|\n",
      "+----------+-------+\n",
      "\n",
      "Column: category\n"
     ]
    },
    {
     "name": "stderr",
     "output_type": "stream",
     "text": [
      "                                                                                \r"
     ]
    },
    {
     "name": "stdout",
     "output_type": "stream",
     "text": [
      "+----------+-------+\n",
      "|value_type|  count|\n",
      "+----------+-------+\n",
      "|    string|1296675|\n",
      "+----------+-------+\n",
      "\n",
      "Column: cc_bic\n"
     ]
    },
    {
     "name": "stderr",
     "output_type": "stream",
     "text": [
      "                                                                                \r"
     ]
    },
    {
     "name": "stdout",
     "output_type": "stream",
     "text": [
      "+----------+------+\n",
      "|value_type| count|\n",
      "+----------+------+\n",
      "|    string|863695|\n",
      "|string(NA)|432980|\n",
      "+----------+------+\n",
      "\n",
      "Column: cc_num\n"
     ]
    },
    {
     "name": "stderr",
     "output_type": "stream",
     "text": [
      "                                                                                \r"
     ]
    },
    {
     "name": "stdout",
     "output_type": "stream",
     "text": [
      "+----------+-------+\n",
      "|value_type|  count|\n",
      "+----------+-------+\n",
      "|    string|1296675|\n",
      "+----------+-------+\n",
      "\n",
      "Column: is_fraud\n"
     ]
    },
    {
     "name": "stderr",
     "output_type": "stream",
     "text": [
      "                                                                                \r"
     ]
    },
    {
     "name": "stdout",
     "output_type": "stream",
     "text": [
      "+----------+-------+\n",
      "|value_type|  count|\n",
      "+----------+-------+\n",
      "|    string|1296675|\n",
      "+----------+-------+\n",
      "\n",
      "Column: merch_eff_time\n"
     ]
    },
    {
     "name": "stderr",
     "output_type": "stream",
     "text": [
      "                                                                                \r"
     ]
    },
    {
     "name": "stdout",
     "output_type": "stream",
     "text": [
      "+----------+-------+\n",
      "|value_type|  count|\n",
      "+----------+-------+\n",
      "|    string|1296675|\n",
      "+----------+-------+\n",
      "\n",
      "Column: merch_last_update_time\n"
     ]
    },
    {
     "name": "stderr",
     "output_type": "stream",
     "text": [
      "                                                                                \r"
     ]
    },
    {
     "name": "stdout",
     "output_type": "stream",
     "text": [
      "+----------+-------+\n",
      "|value_type|  count|\n",
      "+----------+-------+\n",
      "|    string|1296675|\n",
      "+----------+-------+\n",
      "\n",
      "Column: merch_lat\n"
     ]
    },
    {
     "name": "stderr",
     "output_type": "stream",
     "text": [
      "                                                                                \r"
     ]
    },
    {
     "name": "stdout",
     "output_type": "stream",
     "text": [
      "+----------+-------+\n",
      "|value_type|  count|\n",
      "+----------+-------+\n",
      "|    string|1296675|\n",
      "+----------+-------+\n",
      "\n",
      "Column: merch_long\n"
     ]
    },
    {
     "name": "stderr",
     "output_type": "stream",
     "text": [
      "                                                                                \r"
     ]
    },
    {
     "name": "stdout",
     "output_type": "stream",
     "text": [
      "+----------+-------+\n",
      "|value_type|  count|\n",
      "+----------+-------+\n",
      "|    string|1296675|\n",
      "+----------+-------+\n",
      "\n",
      "Column: merch_zipcode\n"
     ]
    },
    {
     "name": "stderr",
     "output_type": "stream",
     "text": [
      "                                                                                \r"
     ]
    },
    {
     "name": "stdout",
     "output_type": "stream",
     "text": [
      "+----------+-------+\n",
      "|value_type|  count|\n",
      "+----------+-------+\n",
      "|    string|1100702|\n",
      "|      null| 195973|\n",
      "+----------+-------+\n",
      "\n",
      "Column: merchant\n"
     ]
    },
    {
     "name": "stderr",
     "output_type": "stream",
     "text": [
      "                                                                                \r"
     ]
    },
    {
     "name": "stdout",
     "output_type": "stream",
     "text": [
      "+----------+-------+\n",
      "|value_type|  count|\n",
      "+----------+-------+\n",
      "|    string|1296675|\n",
      "+----------+-------+\n",
      "\n",
      "Column: personal_detail\n"
     ]
    },
    {
     "name": "stderr",
     "output_type": "stream",
     "text": [
      "                                                                                \r"
     ]
    },
    {
     "name": "stdout",
     "output_type": "stream",
     "text": [
      "+----------+-------+\n",
      "|value_type|  count|\n",
      "+----------+-------+\n",
      "|    string|1296675|\n",
      "+----------+-------+\n",
      "\n",
      "Column: trans_date_trans_time\n"
     ]
    },
    {
     "name": "stderr",
     "output_type": "stream",
     "text": [
      "                                                                                \r"
     ]
    },
    {
     "name": "stdout",
     "output_type": "stream",
     "text": [
      "+----------+-------+\n",
      "|value_type|  count|\n",
      "+----------+-------+\n",
      "|    string|1296675|\n",
      "+----------+-------+\n",
      "\n",
      "Column: trans_num\n"
     ]
    },
    {
     "name": "stderr",
     "output_type": "stream",
     "text": [
      "[Stage 46:>                                                         (0 + 8) / 8]\r"
     ]
    },
    {
     "name": "stdout",
     "output_type": "stream",
     "text": [
      "+----------+-------+\n",
      "|value_type|  count|\n",
      "+----------+-------+\n",
      "|    string|1296675|\n",
      "+----------+-------+\n",
      "\n"
     ]
    },
    {
     "name": "stderr",
     "output_type": "stream",
     "text": [
      "                                                                                \r"
     ]
    }
   ],
   "source": [
    "# Apply UDF to each column and group by types\n",
    "for col_name in df.columns:\n",
    "    print(f\"Column: {col_name}\")\n",
    "    df.withColumn(\"value_type\", classify_udf(df[col_name])) \\\n",
    "       .groupBy(\"value_type\") \\\n",
    "       .count() \\\n",
    "       .show()"
   ]
  },
  {
   "cell_type": "markdown",
   "id": "b176dcd8-ab0e-4798-b591-4859b4cda7d2",
   "metadata": {},
   "source": [
    "So, We can see from the first glance\n",
    "\n",
    "- column cc_bic has some issues with the null value inputs\n",
    "- column merch_zipcode has null values"
   ]
  },
  {
   "cell_type": "code",
   "execution_count": 60,
   "id": "6b37090f-8d6c-452f-8cd7-531941909742",
   "metadata": {},
   "outputs": [],
   "source": [
    "# lets fix that by converting the null type values to NullType\n",
    "# List of null-like strings\n",
    "null_like_values = [\"\", \"NULL\", \"None\", \"NA\", \"Null\"]\n",
    "df = df.withColumn(\"cc_bic\", when(col(\"cc_bic\").isin(null_like_values), None).otherwise(col(\"cc_bic\")))"
   ]
  },
  {
   "cell_type": "code",
   "execution_count": 14,
   "id": "92b58f6a-7e0f-48ac-9e7a-cf3a9f51c904",
   "metadata": {},
   "outputs": [
    {
     "name": "stdout",
     "output_type": "stream",
     "text": [
      "Column: cc_bic\n"
     ]
    },
    {
     "name": "stderr",
     "output_type": "stream",
     "text": [
      "[Stage 49:>                                                         (0 + 8) / 8]\r"
     ]
    },
    {
     "name": "stdout",
     "output_type": "stream",
     "text": [
      "+----------+------+\n",
      "|value_type| count|\n",
      "+----------+------+\n",
      "|    string|863695|\n",
      "|      null|432980|\n",
      "+----------+------+\n",
      "\n"
     ]
    },
    {
     "name": "stderr",
     "output_type": "stream",
     "text": [
      "                                                                                \r"
     ]
    }
   ],
   "source": [
    "## Again checking whether the value has been changed properly\n",
    "print(f\"Column: cc_bic\")\n",
    "df.withColumn(\"value_type\", classify_udf(df[\"cc_bic\"])) \\\n",
    "   .groupBy(\"value_type\") \\\n",
    "   .count() \\\n",
    "   .show()"
   ]
  },
  {
   "cell_type": "markdown",
   "id": "2e688e15-c249-4ac4-8cbc-40c431fd7673",
   "metadata": {},
   "source": [
    "### JSON Flattening: \n",
    "\n",
    "Convert JSON data into a tabular format mentioned in the requirements. We can see from the data that, it has a nested json field named **personal_detail** and inside of it there is another nested field **address**. \n",
    "\n",
    "- To flatten the nested fields WE Define schema for the nested JSON fields\n",
    "- Use from_json to parse the nested JSON string into a structured format\n",
    "- assign the values getting by dot to the appropriate fields mentioned in the requirements"
   ]
  },
  {
   "cell_type": "code",
   "execution_count": 62,
   "id": "9105bc66-52a3-4804-b1a0-d3ca4566d82a",
   "metadata": {},
   "outputs": [
    {
     "name": "stdout",
     "output_type": "stream",
     "text": [
      "+----------+----+--------+-----------+----------------+--------+----------------+----------------------+---------+----------+-------------+--------------------------+-----------------------------------------------------------------------------------------------------------------------------------------------------------------------------------------------------------------------------------------------------------------------+---------------------+--------------------------------+\n",
      "|Unnamed: 0|amt |category|cc_bic     |cc_num          |is_fraud|merch_eff_time  |merch_last_update_time|merch_lat|merch_long|merch_zipcode|merchant                  |personal_detail                                                                                                                                                                                                                                                        |trans_date_trans_time|trans_num                       |\n",
      "+----------+----+--------+-----------+----------------+--------+----------------+----------------------+---------+----------+-------------+--------------------------+-----------------------------------------------------------------------------------------------------------------------------------------------------------------------------------------------------------------------------------------------------------------------+---------------------+--------------------------------+\n",
      "|0         |4.97|misc_net|CITIUS33CHI|2703186189652095|0       |1325376018798532|1325376018666         |36.011293|-82.048315|28705        |fraud_Rippin, Kub and Mann|{\"person_name\":\"Jennifer,Banks,eeeee\",\"gender\":\"F\",\"address\":\"{\\\"street\\\":\\\"561 Perry Cove\\\",\\\"city\\\":\\\"Moravian Falls\\\",\\\"state\\\":\\\"NC\\\",\\\"zip\\\":\\\"28654\\\"}\",\"lat\":\"36.0788\",\"long\":\"-81.1781\",\"city_pop\":\"3495\",\"job\":\"Psychologist, counselling\",\"dob\":\"1988-03-09\"}|2019-01-01 00:00:18  |0b242abb623afc578575680df30655b9|\n",
      "+----------+----+--------+-----------+----------------+--------+----------------+----------------------+---------+----------+-------------+--------------------------+-----------------------------------------------------------------------------------------------------------------------------------------------------------------------------------------------------------------------------------------------------------------------+---------------------+--------------------------------+\n",
      "only showing top 1 row\n",
      "\n"
     ]
    }
   ],
   "source": [
    "# Checking the json structure\n",
    "df.show(1, truncate=False)"
   ]
  },
  {
   "cell_type": "code",
   "execution_count": 63,
   "id": "ded42a99-bb12-47ee-892a-15deeadf2572",
   "metadata": {},
   "outputs": [],
   "source": [
    "# To flatten the nested fields WE Define schema for the nested JSON field\n",
    "\n",
    "personal_detail_schema = StructType([\n",
    "    StructField(\"person_name\", StringType(), True),\n",
    "    StructField(\"gender\", StringType(), True),\n",
    "    StructField(\"address\", StringType(), True),\n",
    "    StructField(\"lat\", StringType(), True),\n",
    "    StructField(\"long\", StringType(), True),\n",
    "    StructField(\"city_pop\", StringType(), True),\n",
    "    StructField(\"job\", StringType(), True),\n",
    "    StructField(\"dob\", StringType(), True),\n",
    "    \n",
    "])\n",
    "\n",
    "address_schema = StructType([\n",
    "    StructField(\"street\", StringType(), True),\n",
    "    StructField(\"city\", StringType(), True),\n",
    "    StructField(\"state\", StringType(), True),\n",
    "    StructField(\"zip\", StringType(), True),\n",
    "])"
   ]
  },
  {
   "cell_type": "code",
   "execution_count": 64,
   "id": "24794d04-2ffe-4619-8d27-e9e719d119c7",
   "metadata": {},
   "outputs": [],
   "source": [
    "# Use from_json to parse the nested JSON string into a structured format\n",
    "df = df.withColumn(\"personal_detail_parsed\", from_json(col(\"personal_detail\"), personal_detail_schema))"
   ]
  },
  {
   "cell_type": "code",
   "execution_count": 65,
   "id": "4659651b-406c-4330-a2bc-a9cae738554f",
   "metadata": {},
   "outputs": [],
   "source": [
    "df = df.withColumn(\"address_parsed\", from_json(col(\"personal_detail_parsed.address\"), address_schema))"
   ]
  },
  {
   "cell_type": "code",
   "execution_count": 66,
   "id": "ce93eef4-f10f-4177-acc7-49176df13611",
   "metadata": {},
   "outputs": [],
   "source": [
    "# assign the values getting by dot to the appropriate fields mentioned in the requirements\n",
    "flattenning_personal_details_column = {\n",
    "    \"person_name\" : col(\"personal_detail_parsed.person_name\"), \n",
    "    \"gender\" : col(\"personal_detail_parsed.gender\"),\n",
    "    \"street\" : col(\"address_parsed.street\"),\n",
    "    \"city\" : col(\"address_parsed.city\"),\n",
    "    \"state\" : col(\"address_parsed.state\"),\n",
    "    \"zip\" : col(\"address_parsed.zip\"),\n",
    "    \"lat\" : col(\"personal_detail_parsed.lat\"),\n",
    "    \"long\" : col(\"personal_detail_parsed.long\"),\n",
    "    \"city_pop\" : col(\"personal_detail_parsed.city_pop\"),\n",
    "    \"job\" : col(\"personal_detail_parsed.job\"),\n",
    "    \"dob\" : col(\"personal_detail_parsed.dob\")\n",
    "}\n",
    "\n",
    "df = df.withColumns(flattenning_personal_details_column)"
   ]
  },
  {
   "cell_type": "code",
   "execution_count": 67,
   "id": "a69ef6b5-fc4c-4ae2-94c4-50191743b472",
   "metadata": {},
   "outputs": [],
   "source": [
    "# Drop the nested and derived columns used for the calculation\n",
    "json_flattend_df = df.drop(\"personal_detail\", \"personal_detail_parsed\", \"address_parsed\")"
   ]
  },
  {
   "cell_type": "code",
   "execution_count": 68,
   "id": "9ee7f101-0b02-47dd-88fb-77fc1b3bd458",
   "metadata": {},
   "outputs": [
    {
     "name": "stdout",
     "output_type": "stream",
     "text": [
      "+----------+----+--------+-----------+----------------+--------+----------------+----------------------+---------+----------+-------------+--------------------+---------------------+--------------------+--------------------+------+--------------+--------------+-----+-----+-------+--------+--------+--------------------+----------+\n",
      "|Unnamed: 0| amt|category|     cc_bic|          cc_num|is_fraud|  merch_eff_time|merch_last_update_time|merch_lat|merch_long|merch_zipcode|            merchant|trans_date_trans_time|           trans_num|         person_name|gender|        street|          city|state|  zip|    lat|    long|city_pop|                 job|       dob|\n",
      "+----------+----+--------+-----------+----------------+--------+----------------+----------------------+---------+----------+-------------+--------------------+---------------------+--------------------+--------------------+------+--------------+--------------+-----+-----+-------+--------+--------+--------------------+----------+\n",
      "|         0|4.97|misc_net|CITIUS33CHI|2703186189652095|       0|1325376018798532|         1325376018666|36.011293|-82.048315|        28705|fraud_Rippin, Kub...|  2019-01-01 00:00:18|0b242abb623afc578...|Jennifer,Banks,eeeee|     F|561 Perry Cove|Moravian Falls|   NC|28654|36.0788|-81.1781|    3495|Psychologist, cou...|1988-03-09|\n",
      "+----------+----+--------+-----------+----------------+--------+----------------+----------------------+---------+----------+-------------+--------------------+---------------------+--------------------+--------------------+------+--------------+--------------+-----+-----+-------+--------+--------+--------------------+----------+\n",
      "only showing top 1 row\n",
      "\n"
     ]
    }
   ],
   "source": [
    "json_flattend_df.show(1)"
   ]
  },
  {
   "cell_type": "markdown",
   "id": "652a6c44-4a30-4097-bfd1-a928caf90572",
   "metadata": {},
   "source": [
    "### Name Derivation:\n",
    "\n",
    "Extract first and last name columns from person_name:\n",
    "\n",
    "- The expected format is based on \"first, last\" but you may\n",
    "encounter dirty data. Please process the name based on following\n",
    "example:\n",
    "§ person_name: \"Edward, Sanchez\" should result in First:\n",
    "\"Edward\" and Last: \"Sanchez\".\n",
    "\n",
    "Lets first see the name column. "
   ]
  },
  {
   "cell_type": "code",
   "execution_count": 70,
   "id": "14108b71-2bf5-4ba9-8835-f0e9e16a86ba",
   "metadata": {},
   "outputs": [
    {
     "name": "stdout",
     "output_type": "stream",
     "text": [
      "+-------------------------+\n",
      "|person_name              |\n",
      "+-------------------------+\n",
      "|Jennifer,Banks,eeeee     |\n",
      "|Stephanie,Gill,eeeee     |\n",
      "|Edward@Sanchez           |\n",
      "|Jeremy/White, !          |\n",
      "|Tyler@Garcia             |\n",
      "|Jennifer,Conner,eeeee    |\n",
      "|Kelsey, , Richards NOOOO |\n",
      "|Steven, Williams         |\n",
      "|Heather, , Chase NOOOO   |\n",
      "|Melissa@Aguilar          |\n",
      "|Eddie|Mendez!!!          |\n",
      "|Theresa@Blackwell        |\n",
      "|Charles|Robles!!!        |\n",
      "|Jack@Hill                |\n",
      "|Christopher@Castaneda    |\n",
      "|Ronald@Carson            |\n",
      "|Lisa, Mendez             |\n",
      "|Nathan,Thomas,eeeee      |\n",
      "|Justin, Gay              |\n",
      "|Kenneth, , Robinson NOOOO|\n",
      "|Gregory|Graham!!!        |\n",
      "|Jeffrey@Rice             |\n",
      "|Mary,Wall,eeeee          |\n",
      "|Susan, , Washington NOOOO|\n",
      "|Richard@Waters           |\n",
      "|Jodi/Foster, !           |\n",
      "|Daniel/Escobar, !        |\n",
      "|Scott/Martin, !          |\n",
      "|Brian@Simpson            |\n",
      "|Aaron@Rogers             |\n",
      "+-------------------------+\n",
      "only showing top 30 rows\n",
      "\n"
     ]
    }
   ],
   "source": [
    "json_flattend_df.select(\"person_name\").show(30, truncate=False)"
   ]
  },
  {
   "cell_type": "markdown",
   "id": "1e8a4868-6d3a-4f6d-85c8-2ec9f68da2e7",
   "metadata": {},
   "source": [
    "Wow! we see the name column has so many different kinds of formats. But having a close look at it i found some interesting idea.\n",
    "\n",
    "- Replace unwanted characters like [@/|!.] with commas\n",
    "- Split based on comma and take first part as first name, second part as last name\n",
    "- For the Last name part, I need to consider the case like \"Heather, , Chase\". so what i did, if 2nd part of splited name is empty and 3rd part has any value, assign the 3rd value. otherwise assign the 2nd value.\n",
    "- Lastly, for cases like \"Susan, , Washington NOOOO\", I Extract only the first word from the last name to remove extra characters"
   ]
  },
  {
   "cell_type": "code",
   "execution_count": 71,
   "id": "4d64688f-a35e-4539-ad9b-041a1e8b8bd7",
   "metadata": {},
   "outputs": [],
   "source": [
    "# Step 1: Replace unwanted characters with commas\n",
    "cleaned_df = json_flattend_df.withColumn(\"person_name_cleaned\", regexp_replace(col(\"person_name\"), r\"[@/|!.]\", \",\"))\n",
    "\n",
    "# Step 2: Split based on comma and take first part as first name, second part as last name\n",
    "splited_df = cleaned_df.withColumn(\"split_names\", split(col(\"person_name_cleaned\"), \",\"))\n",
    "\n",
    "# Step 3: Create first_name and last_name columns\n",
    "json_flattend_df_with_name_parsing = splited_df.withColumn(\n",
    "    \"first\", trim(col(\"split_names\").getItem(0))\n",
    ").withColumn(\n",
    "    \"last\", trim(\n",
    "        when(\n",
    "            (trim(col(\"split_names\").getItem(1)) == \"\") & (trim(col(\"split_names\").getItem(2)) != \"\"),\n",
    "            trim(col(\"split_names\").getItem(2))\n",
    "        ).otherwise(trim(col(\"split_names\").getItem(1)))\n",
    "    )\n",
    ")\n",
    "\n",
    "# Step 4: Extract only the first word from the last name to remove extra characters\n",
    "json_flattend_df_with_name_parsing = json_flattend_df_with_name_parsing.withColumn(\"last\", regexp_extract(col(\"last\"), r'^\\w+', 0))\n",
    "                    "
   ]
  },
  {
   "cell_type": "code",
   "execution_count": 72,
   "id": "2ad4e671-102c-4245-8ad8-fe1a676cdb8a",
   "metadata": {},
   "outputs": [
    {
     "name": "stdout",
     "output_type": "stream",
     "text": [
      "+-------------------------+-------------------------+-----------------------------+-----------+----------+\n",
      "|person_name              |person_name_cleaned      |split_names                  |first      |last      |\n",
      "+-------------------------+-------------------------+-----------------------------+-----------+----------+\n",
      "|Jennifer,Banks,eeeee     |Jennifer,Banks,eeeee     |[Jennifer, Banks, eeeee]     |Jennifer   |Banks     |\n",
      "|Stephanie,Gill,eeeee     |Stephanie,Gill,eeeee     |[Stephanie, Gill, eeeee]     |Stephanie  |Gill      |\n",
      "|Edward@Sanchez           |Edward,Sanchez           |[Edward, Sanchez]            |Edward     |Sanchez   |\n",
      "|Jeremy/White, !          |Jeremy,White, ,          |[Jeremy, White,  , ]         |Jeremy     |White     |\n",
      "|Tyler@Garcia             |Tyler,Garcia             |[Tyler, Garcia]              |Tyler      |Garcia    |\n",
      "|Jennifer,Conner,eeeee    |Jennifer,Conner,eeeee    |[Jennifer, Conner, eeeee]    |Jennifer   |Conner    |\n",
      "|Kelsey, , Richards NOOOO |Kelsey, , Richards NOOOO |[Kelsey,  ,  Richards NOOOO] |Kelsey     |Richards  |\n",
      "|Steven, Williams         |Steven, Williams         |[Steven,  Williams]          |Steven     |Williams  |\n",
      "|Heather, , Chase NOOOO   |Heather, , Chase NOOOO   |[Heather,  ,  Chase NOOOO]   |Heather    |Chase     |\n",
      "|Melissa@Aguilar          |Melissa,Aguilar          |[Melissa, Aguilar]           |Melissa    |Aguilar   |\n",
      "|Eddie|Mendez!!!          |Eddie,Mendez,,,          |[Eddie, Mendez, , , ]        |Eddie      |Mendez    |\n",
      "|Theresa@Blackwell        |Theresa,Blackwell        |[Theresa, Blackwell]         |Theresa    |Blackwell |\n",
      "|Charles|Robles!!!        |Charles,Robles,,,        |[Charles, Robles, , , ]      |Charles    |Robles    |\n",
      "|Jack@Hill                |Jack,Hill                |[Jack, Hill]                 |Jack       |Hill      |\n",
      "|Christopher@Castaneda    |Christopher,Castaneda    |[Christopher, Castaneda]     |Christopher|Castaneda |\n",
      "|Ronald@Carson            |Ronald,Carson            |[Ronald, Carson]             |Ronald     |Carson    |\n",
      "|Lisa, Mendez             |Lisa, Mendez             |[Lisa,  Mendez]              |Lisa       |Mendez    |\n",
      "|Nathan,Thomas,eeeee      |Nathan,Thomas,eeeee      |[Nathan, Thomas, eeeee]      |Nathan     |Thomas    |\n",
      "|Justin, Gay              |Justin, Gay              |[Justin,  Gay]               |Justin     |Gay       |\n",
      "|Kenneth, , Robinson NOOOO|Kenneth, , Robinson NOOOO|[Kenneth,  ,  Robinson NOOOO]|Kenneth    |Robinson  |\n",
      "|Gregory|Graham!!!        |Gregory,Graham,,,        |[Gregory, Graham, , , ]      |Gregory    |Graham    |\n",
      "|Jeffrey@Rice             |Jeffrey,Rice             |[Jeffrey, Rice]              |Jeffrey    |Rice      |\n",
      "|Mary,Wall,eeeee          |Mary,Wall,eeeee          |[Mary, Wall, eeeee]          |Mary       |Wall      |\n",
      "|Susan, , Washington NOOOO|Susan, , Washington NOOOO|[Susan,  ,  Washington NOOOO]|Susan      |Washington|\n",
      "|Richard@Waters           |Richard,Waters           |[Richard, Waters]            |Richard    |Waters    |\n",
      "|Jodi/Foster, !           |Jodi,Foster, ,           |[Jodi, Foster,  , ]          |Jodi       |Foster    |\n",
      "|Daniel/Escobar, !        |Daniel,Escobar, ,        |[Daniel, Escobar,  , ]       |Daniel     |Escobar   |\n",
      "|Scott/Martin, !          |Scott,Martin, ,          |[Scott, Martin,  , ]         |Scott      |Martin    |\n",
      "|Brian@Simpson            |Brian,Simpson            |[Brian, Simpson]             |Brian      |Simpson   |\n",
      "|Aaron@Rogers             |Aaron,Rogers             |[Aaron, Rogers]              |Aaron      |Rogers    |\n",
      "|Tammie@Harper            |Tammie,Harper            |[Tammie, Harper]             |Tammie     |Harper    |\n",
      "|Mary/Myers, !            |Mary,Myers, ,            |[Mary, Myers,  , ]           |Mary       |Myers     |\n",
      "|Heather@Stanton          |Heather,Stanton          |[Heather, Stanton]           |Heather    |Stanton   |\n",
      "|Jenna,Brooks,eeeee       |Jenna,Brooks,eeeee       |[Jenna, Brooks, eeeee]       |Jenna      |Brooks    |\n",
      "|Christopher@Gilbert      |Christopher,Gilbert      |[Christopher, Gilbert]       |Christopher|Gilbert   |\n",
      "+-------------------------+-------------------------+-----------------------------+-----------+----------+\n",
      "only showing top 35 rows\n",
      "\n"
     ]
    }
   ],
   "source": [
    "json_flattend_df_with_name_parsing.select(\"person_name\", \"person_name_cleaned\", \"split_names\", \"first\", \"last\").show(35, truncate=False)"
   ]
  },
  {
   "cell_type": "code",
   "execution_count": 73,
   "id": "319badb6-fd66-4e36-a19c-cc14321d2e00",
   "metadata": {},
   "outputs": [],
   "source": [
    "## Drop Derived columns\n",
    "json_flattend_df_with_name_parsing = json_flattend_df_with_name_parsing.drop(\"person_name\", \"person_name_cleaned\", \"split_names\") "
   ]
  },
  {
   "cell_type": "code",
   "execution_count": 74,
   "id": "3939c33c-8048-438f-9de0-842c25653356",
   "metadata": {},
   "outputs": [
    {
     "name": "stdout",
     "output_type": "stream",
     "text": [
      "+----------+----+--------+-----------+----------------+--------+----------------+----------------------+---------+----------+-------------+--------------------------+---------------------+--------------------------------+------+--------------+--------------+-----+-----+-------+--------+--------+-------------------------+----------+--------+-----+\n",
      "|Unnamed: 0|amt |category|cc_bic     |cc_num          |is_fraud|merch_eff_time  |merch_last_update_time|merch_lat|merch_long|merch_zipcode|merchant                  |trans_date_trans_time|trans_num                       |gender|street        |city          |state|zip  |lat    |long    |city_pop|job                      |dob       |first   |last |\n",
      "+----------+----+--------+-----------+----------------+--------+----------------+----------------------+---------+----------+-------------+--------------------------+---------------------+--------------------------------+------+--------------+--------------+-----+-----+-------+--------+--------+-------------------------+----------+--------+-----+\n",
      "|0         |4.97|misc_net|CITIUS33CHI|2703186189652095|0       |1325376018798532|1325376018666         |36.011293|-82.048315|28705        |fraud_Rippin, Kub and Mann|2019-01-01 00:00:18  |0b242abb623afc578575680df30655b9|F     |561 Perry Cove|Moravian Falls|NC   |28654|36.0788|-81.1781|3495    |Psychologist, counselling|1988-03-09|Jennifer|Banks|\n",
      "+----------+----+--------+-----------+----------------+--------+----------------+----------------------+---------+----------+-------------+--------------------------+---------------------+--------------------------------+------+--------------+--------------+-----+-----+-------+--------+--------+-------------------------+----------+--------+-----+\n",
      "only showing top 1 row\n",
      "\n"
     ]
    }
   ],
   "source": [
    "json_flattend_df_with_name_parsing.show(1, truncate=False)"
   ]
  },
  {
   "cell_type": "markdown",
   "id": "6fdf40b2-97a3-465a-93f5-3454218084a6",
   "metadata": {},
   "source": [
    "### Timestamp Conversion:\n",
    "\n",
    "All time-related columns (`trans_date_trans_time`, `merch_last_update_time`,`merch_e?_time` columns) must be converted  \n",
    "to a human-readable timestamp format in UTC +8 timezone (e.g., YYYY-MM-DD HH:MM.SSSSSS Z)."
   ]
  },
  {
   "cell_type": "code",
   "execution_count": 76,
   "id": "3e61ec98-771f-4756-ab53-d415ce7f6790",
   "metadata": {},
   "outputs": [
    {
     "name": "stdout",
     "output_type": "stream",
     "text": [
      "+----------------+----------------------+---------------------+\n",
      "|merch_eff_time  |merch_last_update_time|trans_date_trans_time|\n",
      "+----------------+----------------------+---------------------+\n",
      "|1325376018798532|1325376018666         |2019-01-01 00:00:18  |\n",
      "|1325376044867960|132537604479          |2019-01-01 00:00:44  |\n",
      "|1325376051506840|1325376051286         |2019-01-01 00:00:51  |\n",
      "|1325376076794698|1325376076365         |2019-01-01 00:01:16  |\n",
      "|1325376186746376|132537618681          |2019-01-01 00:03:06  |\n",
      "|1325376248271406|1325376248483         |2019-01-01 00:04:08  |\n",
      "|1325376282274130|1325376282247         |2019-01-01 00:04:42  |\n",
      "|1325376308837349|1325376308152         |2019-01-01 00:05:08  |\n",
      "|1325376318245892|1325376318278         |2019-01-01 00:05:18  |\n",
      "|1325376361965234|1325376361857         |2019-01-01 00:06:01  |\n",
      "|1325376383967287|1325376383455         |2019-01-01 00:06:23  |\n",
      "|1325376413912233|1325376413859         |2019-01-01 00:06:53  |\n",
      "|1325376416569264|1325376416443         |2019-01-01 00:06:56  |\n",
      "|1325376447442465|1325376447771         |2019-01-01 00:07:27  |\n",
      "|132537654399153 |1325376543282         |2019-01-01 00:09:03  |\n",
      "|1325376560448213|1325376560435         |2019-01-01 00:09:20  |\n",
      "|132537664977977 |1325376649369         |2019-01-01 00:10:49  |\n",
      "|1325376658780653|1325376658125         |2019-01-01 00:10:58  |\n",
      "|1325376674645606|1325376674800         |2019-01-01 00:11:14  |\n",
      "|132537675433224 |1325376754863         |2019-01-01 00:12:34  |\n",
      "+----------------+----------------------+---------------------+\n",
      "only showing top 20 rows\n",
      "\n"
     ]
    }
   ],
   "source": [
    "## lets look into the datefields\n",
    "\n",
    "json_flattend_df_with_name_parsing.select(\"merch_eff_time\", \"merch_last_update_time\", \"trans_date_trans_time\").show(20, truncate=False)\n",
    "\n",
    "### \"yyyy-MM-dd HH:mm:ss.SSS\""
   ]
  },
  {
   "cell_type": "markdown",
   "id": "e38e26ef-d5c0-45ff-93cf-a683be9e8235",
   "metadata": {},
   "source": [
    "I found some interesting facts here: \n",
    "\n",
    "- 2 of the columns are in unix epoch timestamp, merch_last_update_time and merch_ef_time\n",
    "- usually for unix epoch time we follow 10, 13,16 digit format but here i found formats of mix digits.\n",
    "- \n",
    "So, i decided to check on the digit lengths to confirm what is the range they reside in between."
   ]
  },
  {
   "cell_type": "code",
   "execution_count": 77,
   "id": "f0548ad7-6731-4bf6-81a0-7d9c62cab58b",
   "metadata": {},
   "outputs": [
    {
     "name": "stderr",
     "output_type": "stream",
     "text": [
      "                                                                                \r"
     ]
    }
   ],
   "source": [
    "# Check on the digit length\n",
    "# Add a new column for the length of the epoch string\n",
    "date_columns = json_flattend_df_with_name_parsing.select(\"merch_eff_time\", \"merch_last_update_time\", \"trans_date_trans_time\", \"category\", \"is_fraud\", \"amt\")\n",
    "date_columns = date_columns.withColumn(\"merch_eff_time(len)\", length(col(\"merch_eff_time\"))).withColumn(\n",
    "    \"merch_last_update_time(len)\", length(col(\"merch_last_update_time\")))\n",
    "\n",
    "# Group by category, count occurrences, and calculate relative frequencies\n",
    "total_count = date_columns.count()\n",
    "relative_frequencies_for_merch_eff_time = date_columns.groupBy(\"merch_eff_time(len)\") \\\n",
    "                         .count() \\\n",
    "                         .withColumn(\"frequency\", col(\"count\") / total_count)\n",
    "\n",
    "relative_frequencies_for_merch_last_update_time = date_columns.groupBy(\"merch_last_update_time(len)\") \\\n",
    "                         .count() \\\n",
    "                         .withColumn(\"frequency\", col(\"count\") / total_count)"
   ]
  },
  {
   "cell_type": "code",
   "execution_count": 78,
   "id": "d92a7b67-a8a2-4d8e-8054-9da8e83b6280",
   "metadata": {},
   "outputs": [
    {
     "name": "stdout",
     "output_type": "stream",
     "text": [
      "+-------------------+-------+--------------------+\n",
      "|merch_eff_time(len)|  count|           frequency|\n",
      "+-------------------+-------+--------------------+\n",
      "|                 12|    122|9.408679892802746E-5|\n",
      "|                 13|   1248|9.624616808375267E-4|\n",
      "|                 16|1167424|  0.9003212061619141|\n",
      "|                 15| 116253| 0.08965469373590144|\n",
      "|                 11|      9|6.940829429116779E-6|\n",
      "|                 14|  11619|0.008960610792989761|\n",
      "+-------------------+-------+--------------------+\n",
      "\n"
     ]
    },
    {
     "name": "stderr",
     "output_type": "stream",
     "text": [
      "                                                                                \r"
     ]
    }
   ],
   "source": [
    "relative_frequencies_for_merch_eff_time.show()"
   ]
  },
  {
   "cell_type": "code",
   "execution_count": 79,
   "id": "74d80389-e1fd-4e1a-ab51-4df756f51fc2",
   "metadata": {},
   "outputs": [
    {
     "name": "stdout",
     "output_type": "stream",
     "text": [
      "+---------------------------+-------+--------------------+\n",
      "|merch_last_update_time(len)|  count|           frequency|\n",
      "+---------------------------+-------+--------------------+\n",
      "|                         12| 116527| 0.08986600343185455|\n",
      "|                         13|1167213|  0.9001584822719648|\n",
      "|                         11|  12935|0.009975514296180616|\n",
      "+---------------------------+-------+--------------------+\n",
      "\n"
     ]
    }
   ],
   "source": [
    "relative_frequencies_for_merch_last_update_time.show()"
   ]
  },
  {
   "cell_type": "markdown",
   "id": "6cb5e0aa-2b92-4a11-9d4c-9ff12e9c5999",
   "metadata": {},
   "source": [
    "so we can see there is inconsistencies in the unix timestamp digits, the range is 11-16\n",
    "\n",
    "- for column \"merch_last_update_time\" the values in range 11-13. 13 count is more. \n",
    "- for column \"merch_eff_time\" the values in range 11-16. 16 count is more.\n",
    "- based on the finding i decided to normalize it to a standard length format for unix time like 13 and 16\n",
    "- after normalize, i convert the unix timestamp to the required format given in requirements using **from_unixtime** function\n",
    "  "
   ]
  },
  {
   "cell_type": "code",
   "execution_count": 82,
   "id": "5e7bd741-e7d0-41f9-946e-6217cb7a6fcf",
   "metadata": {},
   "outputs": [],
   "source": [
    "## so we can see there is inconsistencies in the unix timestamp digits, usual standard is 10, 13, 16, 19 ... \n",
    "## but we are getting 11 -16 range, \n",
    "\n",
    "# Set timezone to UTC +8\n",
    "spark.conf.set(\"spark.sql.session.timeZone\", \"Asia/Singapore\")  # Change as per your requirement"
   ]
  },
  {
   "cell_type": "code",
   "execution_count": 81,
   "id": "e192c7b2-4ce5-4263-b3f4-cd7f4dcf46e0",
   "metadata": {},
   "outputs": [],
   "source": [
    "# Function to normalize and convert timestamps\n",
    "def process_timestamp_column_milliseconds(df_temp, column_name):\n",
    "    length_col = f\"length_{column_name}\"  # Length column name (e.g., length_1)\n",
    "    normalized_col = f\"normalized_{column_name}\"  # Normalized timestamp column\n",
    "    human_readable_col = f\"timestamp_utc_plus_8_{column_name}\"  # Human-readable timestamp column\n",
    "\n",
    "    return df_temp.withColumn(length_col, length(col(column_name))) \\\n",
    "             .withColumn(\n",
    "                 normalized_col,\n",
    "                 when(col(length_col) == 11, col(column_name).cast(\"long\") * 100)  # Seconds -> Milliseconds\n",
    "                 .when(col(length_col) == 12, col(column_name).cast(\"long\") * 10)  # Seconds -> Milliseconds\n",
    "                 .when(col(length_col) == 13, col(column_name).cast(\"long\"))  # Already in Milliseconds\n",
    "                 .when(col(length_col) == 14, col(column_name).cast(\"long\") / 10)  # Microseconds -> Milliseconds\n",
    "                 .when(col(length_col) == 15, col(column_name).cast(\"long\") / 100)  # Microseconds -> Milliseconds\n",
    "                 .when(col(length_col) == 16, col(column_name).cast(\"long\") / 1000)  # Nanoseconds -> Milliseconds\n",
    "                 .otherwise(None)\n",
    "             ).withColumn(\n",
    "                 human_readable_col,\n",
    "                 from_unixtime(col(normalized_col) / 1000, \"yyyy-MM-dd HH:mm:ss.SSSSSS\")  # Convert to readable timestamp with microseconds\n",
    "             )\n",
    "\n",
    "# Function to normalize and convert timestamps\n",
    "def process_timestamp_column_microseconds(df_temp, column_name):\n",
    "    length_col = f\"length_{column_name}\"  # Length column name (e.g., length_1)\n",
    "    normalized_col = f\"normalized_{column_name}\"  # Normalized timestamp column\n",
    "    human_readable_col = f\"timestamp_utc_plus_8_{column_name}\"  # Human-readable timestamp column\n",
    "\n",
    "    return df_temp.withColumn(length_col, length(col(column_name))) \\\n",
    "             .withColumn(\n",
    "                 normalized_col,\n",
    "                 when(col(length_col) == 11, col(column_name).cast(\"long\") * 100000)  \n",
    "                 .when(col(length_col) == 12, col(column_name).cast(\"long\") * 10000)  \n",
    "                 .when(col(length_col) == 13, col(column_name).cast(\"long\") * 1000)  \n",
    "                 .when(col(length_col) == 14, col(column_name).cast(\"long\") * 100)  \n",
    "                 .when(col(length_col) == 15, col(column_name).cast(\"long\") * 10)  \n",
    "                 .when(col(length_col) == 16, col(column_name).cast(\"long\") * 1)  \n",
    "                 .otherwise(None)\n",
    "             ).withColumn(\n",
    "                 human_readable_col,\n",
    "                 from_unixtime(col(normalized_col) / 1000000, \"yyyy-MM-dd HH:mm:ss.SSSSSS\")  # Convert to readable timestamp with microseconds\n",
    "             )"
   ]
  },
  {
   "cell_type": "code",
   "execution_count": 83,
   "id": "ad846d3f-a09e-4e94-afd0-266019a4a304",
   "metadata": {},
   "outputs": [],
   "source": [
    "final_flattend_df_with_human_redable_date = process_timestamp_column_microseconds(json_flattend_df_with_name_parsing, \"merch_eff_time\")\n",
    "final_flattend_df_with_human_redable_date = process_timestamp_column_milliseconds(\n",
    "    final_flattend_df_with_human_redable_date, \"merch_last_update_time\")\n"
   ]
  },
  {
   "cell_type": "code",
   "execution_count": 84,
   "id": "1965062d-ce95-47a6-8f39-81d5a142f719",
   "metadata": {},
   "outputs": [
    {
     "name": "stdout",
     "output_type": "stream",
     "text": [
      "+----------------+----------------------+-----------------------------------+-------------------------------------------+\n",
      "|merch_eff_time  |merch_last_update_time|timestamp_utc_plus_8_merch_eff_time|timestamp_utc_plus_8_merch_last_update_time|\n",
      "+----------------+----------------------+-----------------------------------+-------------------------------------------+\n",
      "|1325376018798532|1325376018666         |2012-01-01 08:00:18.000000         |2012-01-01 08:00:18.000000                 |\n",
      "|1325376044867960|132537604479          |2012-01-01 08:00:44.000000         |2012-01-01 08:00:44.000000                 |\n",
      "|1325376051506840|1325376051286         |2012-01-01 08:00:51.000000         |2012-01-01 08:00:51.000000                 |\n",
      "|1325376076794698|1325376076365         |2012-01-01 08:01:16.000000         |2012-01-01 08:01:16.000000                 |\n",
      "|1325376186746376|132537618681          |2012-01-01 08:03:06.000000         |2012-01-01 08:03:06.000000                 |\n",
      "|1325376248271406|1325376248483         |2012-01-01 08:04:08.000000         |2012-01-01 08:04:08.000000                 |\n",
      "|1325376282274130|1325376282247         |2012-01-01 08:04:42.000000         |2012-01-01 08:04:42.000000                 |\n",
      "|1325376308837349|1325376308152         |2012-01-01 08:05:08.000000         |2012-01-01 08:05:08.000000                 |\n",
      "|1325376318245892|1325376318278         |2012-01-01 08:05:18.000000         |2012-01-01 08:05:18.000000                 |\n",
      "|1325376361965234|1325376361857         |2012-01-01 08:06:01.000000         |2012-01-01 08:06:01.000000                 |\n",
      "|1325376383967287|1325376383455         |2012-01-01 08:06:23.000000         |2012-01-01 08:06:23.000000                 |\n",
      "|1325376413912233|1325376413859         |2012-01-01 08:06:53.000000         |2012-01-01 08:06:53.000000                 |\n",
      "|1325376416569264|1325376416443         |2012-01-01 08:06:56.000000         |2012-01-01 08:06:56.000000                 |\n",
      "|1325376447442465|1325376447771         |2012-01-01 08:07:27.000000         |2012-01-01 08:07:27.000000                 |\n",
      "|132537654399153 |1325376543282         |2012-01-01 08:09:03.000000         |2012-01-01 08:09:03.000000                 |\n",
      "|1325376560448213|1325376560435         |2012-01-01 08:09:20.000000         |2012-01-01 08:09:20.000000                 |\n",
      "|132537664977977 |1325376649369         |2012-01-01 08:10:49.000000         |2012-01-01 08:10:49.000000                 |\n",
      "|1325376658780653|1325376658125         |2012-01-01 08:10:58.000000         |2012-01-01 08:10:58.000000                 |\n",
      "|1325376674645606|1325376674800         |2012-01-01 08:11:14.000000         |2012-01-01 08:11:14.000000                 |\n",
      "|132537675433224 |1325376754863         |2012-01-01 08:12:34.000000         |2012-01-01 08:12:34.000000                 |\n",
      "|1325376788679431|1325376788881         |2012-01-01 08:13:08.000000         |2012-01-01 08:13:08.000000                 |\n",
      "|1325376877626507|1325376877765         |2012-01-01 08:14:37.000000         |2012-01-01 08:14:37.000000                 |\n",
      "|1325377036676252|1325377036949         |2012-01-01 08:17:16.000000         |2012-01-01 08:17:16.000000                 |\n",
      "|1325377060351163|1325377060580         |2012-01-01 08:17:40.000000         |2012-01-01 08:17:40.000000                 |\n",
      "|1325377086510394|1325377086531         |2012-01-01 08:18:06.000000         |2012-01-01 08:18:06.000000                 |\n",
      "|1325377087223427|132537708776          |2012-01-01 08:18:07.000000         |2012-01-01 08:18:07.000000                 |\n",
      "|1325377215445010|132537721512          |2012-01-01 08:20:15.000000         |2012-01-01 08:20:15.000000                 |\n",
      "|1325377292834523|1325377292741         |2012-01-01 08:21:32.000000         |2012-01-01 08:21:32.000000                 |\n",
      "|1325377326969473|1325377326286         |2012-01-01 08:22:06.000000         |2012-01-01 08:22:06.000000                 |\n",
      "|1325377338107571|1325377338832         |2012-01-01 08:22:18.000000         |2012-01-01 08:22:18.000000                 |\n",
      "+----------------+----------------------+-----------------------------------+-------------------------------------------+\n",
      "only showing top 30 rows\n",
      "\n"
     ]
    }
   ],
   "source": [
    "final_flattend_df_with_human_redable_date.select(\"merch_eff_time\", \"merch_last_update_time\", \n",
    "                         \"timestamp_utc_plus_8_merch_eff_time\",\n",
    "                         \"timestamp_utc_plus_8_merch_last_update_time\").show(30, truncate=False)"
   ]
  },
  {
   "cell_type": "code",
   "execution_count": 85,
   "id": "cf106014-3d3f-4f03-9a64-0b949cc10449",
   "metadata": {},
   "outputs": [],
   "source": [
    "## assgning back to the main column\n",
    "converted_human_readable_column = {\n",
    "    \"merch_eff_time\" : col(\"timestamp_utc_plus_8_merch_eff_time\"),\n",
    "    \"merch_last_update_time\" : col(\"timestamp_utc_plus_8_merch_last_update_time\")\n",
    "}\n",
    "\n",
    "final_flattend_df_with_human_redable_date = final_flattend_df_with_human_redable_date.withColumns(converted_human_readable_column)\n",
    "\n",
    "## drop derived columns\n",
    "final_flattend_df_with_human_redable_date = final_flattend_df_with_human_redable_date.drop(\"timestamp_utc_plus_8_merch_eff_time\", \n",
    "                                               \"timestamp_utc_plus_8_merch_last_update_time\",\n",
    "                                              \"normalized_merch_eff_time\",\"normalized_merch_last_update_time\",\n",
    "                                               \"length_merch_eff_time\",\"length_merch_last_update_time\")"
   ]
  },
  {
   "cell_type": "code",
   "execution_count": 86,
   "id": "2dc86665-a417-4f2a-8f06-b4348b6e4734",
   "metadata": {},
   "outputs": [
    {
     "name": "stdout",
     "output_type": "stream",
     "text": [
      "+----------+----+--------+-----------+----------------+--------+--------------------------+--------------------------+---------+----------+-------------+--------------------------+---------------------+--------------------------------+------+--------------+--------------+-----+-----+-------+--------+--------+-------------------------+----------+--------+-----+\n",
      "|Unnamed: 0|amt |category|cc_bic     |cc_num          |is_fraud|merch_eff_time            |merch_last_update_time    |merch_lat|merch_long|merch_zipcode|merchant                  |trans_date_trans_time|trans_num                       |gender|street        |city          |state|zip  |lat    |long    |city_pop|job                      |dob       |first   |last |\n",
      "+----------+----+--------+-----------+----------------+--------+--------------------------+--------------------------+---------+----------+-------------+--------------------------+---------------------+--------------------------------+------+--------------+--------------+-----+-----+-------+--------+--------+-------------------------+----------+--------+-----+\n",
      "|0         |4.97|misc_net|CITIUS33CHI|2703186189652095|0       |2012-01-01 08:00:18.000000|2012-01-01 08:00:18.000000|36.011293|-82.048315|28705        |fraud_Rippin, Kub and Mann|2019-01-01 00:00:18  |0b242abb623afc578575680df30655b9|F     |561 Perry Cove|Moravian Falls|NC   |28654|36.0788|-81.1781|3495    |Psychologist, counselling|1988-03-09|Jennifer|Banks|\n",
      "+----------+----+--------+-----------+----------------+--------+--------------------------+--------------------------+---------+----------+-------------+--------------------------+---------------------+--------------------------------+------+--------------+--------------+-----+-----+-------+--------+--------+-------------------------+----------+--------+-----+\n",
      "only showing top 1 row\n",
      "\n"
     ]
    }
   ],
   "source": [
    "final_flattend_df_with_human_redable_date.show(1, truncate=False)"
   ]
  },
  {
   "cell_type": "markdown",
   "id": "73911cad-c0e6-471f-9b1a-fbb9c20f284a",
   "metadata": {},
   "source": [
    "### Casting to proper data type for later use"
   ]
  },
  {
   "cell_type": "code",
   "execution_count": 88,
   "id": "164524a8-b633-45f3-9292-fc50e662d310",
   "metadata": {},
   "outputs": [],
   "source": [
    "updating_columns_datatype = {\n",
    "    \"amt\" : col(\"amt\").cast(DoubleType()),\n",
    "    \"Unnamed: 0\" : col(\"Unnamed: 0\").cast(LongType()),\n",
    "    \"merch_lat\" : col(\"merch_lat\").cast(DoubleType()),\n",
    "    \"merch_long\" : col(\"merch_long\").cast(DoubleType())   \n",
    "}\n",
    "\n",
    "final_flattend_df_with_human_redable_date = final_flattend_df_with_human_redable_date.withColumns(updating_columns_datatype)"
   ]
  },
  {
   "cell_type": "code",
   "execution_count": 89,
   "id": "067d8387-7485-4c67-9650-83130abea69b",
   "metadata": {},
   "outputs": [
    {
     "name": "stdout",
     "output_type": "stream",
     "text": [
      "root\n",
      " |-- Unnamed: 0: long (nullable = true)\n",
      " |-- amt: double (nullable = true)\n",
      " |-- category: string (nullable = true)\n",
      " |-- cc_bic: string (nullable = true)\n",
      " |-- cc_num: string (nullable = true)\n",
      " |-- is_fraud: string (nullable = true)\n",
      " |-- merch_eff_time: string (nullable = true)\n",
      " |-- merch_last_update_time: string (nullable = true)\n",
      " |-- merch_lat: double (nullable = true)\n",
      " |-- merch_long: double (nullable = true)\n",
      " |-- merch_zipcode: string (nullable = true)\n",
      " |-- merchant: string (nullable = true)\n",
      " |-- trans_date_trans_time: string (nullable = true)\n",
      " |-- trans_num: string (nullable = true)\n",
      " |-- gender: string (nullable = true)\n",
      " |-- street: string (nullable = true)\n",
      " |-- city: string (nullable = true)\n",
      " |-- state: string (nullable = true)\n",
      " |-- zip: string (nullable = true)\n",
      " |-- lat: string (nullable = true)\n",
      " |-- long: string (nullable = true)\n",
      " |-- city_pop: string (nullable = true)\n",
      " |-- job: string (nullable = true)\n",
      " |-- dob: string (nullable = true)\n",
      " |-- first: string (nullable = true)\n",
      " |-- last: string (nullable = true)\n",
      "\n"
     ]
    }
   ],
   "source": [
    "final_flattend_df_with_human_redable_date.printSchema()"
   ]
  },
  {
   "cell_type": "markdown",
   "id": "36636402-7166-41df-a5cd-c9cf229f7656",
   "metadata": {},
   "source": [
    "## Handling PII Data\n",
    "\n",
    "Personal Identifiable Information (PII) is defined as: Any representation of information that permits the identity of an individual to whom the information applies to be reasonably inferred by either direct or indirect means.  \n",
    "\n",
    "In our dataset we have the following PII columns:  \n",
    "\n",
    " gender: string (nullable = true)  \n",
    " street: string (nullable = true)  \n",
    " city: string (nullable = true)  \n",
    " state: string (nullable = true)  \n",
    " zip: string (nullable = true)  \n",
    " lat: string (nullable = true)  \n",
    " long: string (nullable = true)  \n",
    " city_pop: string (nullable = true)  \n",
    " job: string (nullable = true)  \n",
    " dob: string (nullable = true)  \n",
    " first: string (nullable = true)  \n",
    " last: string (nullable = true)  \n",
    "\n",
    "**One solution is to encrypt the PII data  \n",
    "we will be uisng a library named cryptography to encrypt and decrypt data**"
   ]
  },
  {
   "cell_type": "code",
   "execution_count": 90,
   "id": "0667b612-5640-4f86-a81c-7e14f0f335a4",
   "metadata": {},
   "outputs": [],
   "source": [
    "# import necessary libs\n",
    "from cryptography.fernet import Fernet"
   ]
  },
  {
   "cell_type": "code",
   "execution_count": 91,
   "id": "21f6f56c-9ecc-4547-a842-cfcd724b1fa4",
   "metadata": {},
   "outputs": [],
   "source": [
    "# Step 2: Create UDFs for encryption and decryption\n",
    "# Encrypt UDF\n",
    "def encrypt_value(value):\n",
    "    if value is not None:\n",
    "        return cipher.encrypt(value.encode()).decode()\n",
    "    return None\n",
    "\n",
    "# Decrypt UDF\n",
    "def decrypt_value(value):\n",
    "    if value is not None:\n",
    "        return cipher.decrypt(value.encode()).decode()\n",
    "    return None\n"
   ]
  },
  {
   "cell_type": "code",
   "execution_count": 92,
   "id": "e87d6147-dd45-4ec2-b44a-fd2ccd028134",
   "metadata": {},
   "outputs": [],
   "source": [
    "# Register UDFs\n",
    "encrypt_udf = udf(encrypt_value, StringType())\n",
    "decrypt_udf = udf(decrypt_value, StringType())"
   ]
  },
  {
   "cell_type": "code",
   "execution_count": 93,
   "id": "4f24115b-3290-4f9e-abf3-da743adeaafa",
   "metadata": {},
   "outputs": [],
   "source": [
    "# Step 1: Generate a key for encryption and decryption\n",
    "key = Fernet.generate_key()\n",
    "cipher = Fernet(key)\n",
    "\n",
    "# lets take a subset of PII columns for testing\n",
    "pii_data = final_flattend_df_with_human_redable_date.select(\"first\", \"last\")\n",
    "\n",
    "# Step 3: Apply encryption to PII columns\n",
    "# Let's assume 'first' and 'last' are the PII columns\n",
    "pii_data_encrypted = pii_data.withColumn(\"encrypted_first\", encrypt_udf(col(\"first\"))) \\\n",
    "                 .withColumn(\"encrypted_last\", encrypt_udf(col(\"last\")))\n",
    "\n",
    "# Step 4: Apply decryption when needed\n",
    "pii_data_decrepted = pii_data_encrypted.withColumn(\"decrypted_first\", decrypt_udf(col(\"encrypted_first\"))) \\\n",
    "                           .withColumn(\"decrypted_last\", decrypt_udf(col(\"encrypted_last\")))\n",
    "\n",
    "\n",
    "           \n"
   ]
  },
  {
   "cell_type": "code",
   "execution_count": 94,
   "id": "fa59268d-19b7-445a-9235-9adb7004dfac",
   "metadata": {},
   "outputs": [
    {
     "name": "stdout",
     "output_type": "stream",
     "text": [
      "+---------+--------+--------------------+--------------------+---------------+--------------+\n",
      "|    first|    last|     encrypted_first|      encrypted_last|decrypted_first|decrypted_last|\n",
      "+---------+--------+--------------------+--------------------+---------------+--------------+\n",
      "| Jennifer|   Banks|gAAAAABnGow4BnObx...|gAAAAABnGow4UDKWM...|       Jennifer|         Banks|\n",
      "|Stephanie|    Gill|gAAAAABnGow4Slm-k...|gAAAAABnGow4-a5ss...|      Stephanie|          Gill|\n",
      "|   Edward| Sanchez|gAAAAABnGow4IWhw8...|gAAAAABnGow44mavL...|         Edward|       Sanchez|\n",
      "|   Jeremy|   White|gAAAAABnGow40zc3Z...|gAAAAABnGow41HxwA...|         Jeremy|         White|\n",
      "|    Tyler|  Garcia|gAAAAABnGow44bzoL...|gAAAAABnGow4FLi0F...|          Tyler|        Garcia|\n",
      "| Jennifer|  Conner|gAAAAABnGow4SUwpm...|gAAAAABnGow4MuzVE...|       Jennifer|        Conner|\n",
      "|   Kelsey|Richards|gAAAAABnGow4Szmzc...|gAAAAABnGow4_1_n1...|         Kelsey|      Richards|\n",
      "|   Steven|Williams|gAAAAABnGow4L6aSK...|gAAAAABnGow4fb2D2...|         Steven|      Williams|\n",
      "|  Heather|   Chase|gAAAAABnGow4S87AG...|gAAAAABnGow4Q82mZ...|        Heather|         Chase|\n",
      "|  Melissa| Aguilar|gAAAAABnGow4KL9jE...|gAAAAABnGow4SS9UH...|        Melissa|       Aguilar|\n",
      "+---------+--------+--------------------+--------------------+---------------+--------------+\n",
      "only showing top 10 rows\n",
      "\n"
     ]
    }
   ],
   "source": [
    "pii_data_decrepted.show(10)"
   ]
  },
  {
   "cell_type": "markdown",
   "id": "8b053d37-a433-4948-9a5a-df1340bcc907",
   "metadata": {},
   "source": [
    "## Some Potential analysis:\n",
    "- Fraud vs Non-Fraud Transactions\n",
    "- Transaction Amount Distribution\n",
    "- Merchant Category Analysis\n",
    "- Transaction Trend Over Time\n",
    "- Fraud Detection by Merchant Category\n",
    "- Transaction Amounts by State\n",
    "- Age Analysis of Cardholders\n",
    "\n",
    "so, before jumping into the analysis, we need to convert some relavent columns"
   ]
  },
  {
   "cell_type": "code",
   "execution_count": 44,
   "id": "9a6a12a3-b041-47b7-8b44-093849af6cd2",
   "metadata": {},
   "outputs": [],
   "source": [
    "dataset_for_analysis = final_flattend_df_with_human_redable_date\n",
    "\n",
    "# Convert relevant columns to date format for time-based analysis\n",
    "dataset_for_analysis = dataset_for_analysis.withColumn(\"trans_date_trans_time\", to_date(col(\"trans_date_trans_time\")))\n",
    "dataset_for_analysis = dataset_for_analysis.withColumn(\"trans_year_month\", date_format(col(\"trans_date_trans_time\"), 'yyyy-MM'))"
   ]
  },
  {
   "cell_type": "markdown",
   "id": "04c73aad-d9fe-4792-b4e5-89dac5e71a03",
   "metadata": {},
   "source": [
    "### Fraud vs. Non-Fraud Transactions:\n",
    "- **Visualizations:**  \n",
    "   - Bar plot of the count of fraud (is_fraud == 1) vs. non-fraud (is_fraud == 0) transactions.\n",
    "   - Comparison of average transaction amounts between fraud and non-fraud cases using a boxplot.\n",
    "- **Insights:**\n",
    "   - Identify if fraudulent transactions tend to involve higher or lower amounts."
   ]
  },
  {
   "cell_type": "code",
   "execution_count": 45,
   "id": "7c719da2-eb76-48e2-93a2-d10ad8e790de",
   "metadata": {},
   "outputs": [
    {
     "name": "stderr",
     "output_type": "stream",
     "text": [
      "                                                                                \r"
     ]
    },
    {
     "data": {
      "image/png": "[encoded data removed]",
      "text/plain": [
       "<Figure size 800x600 with 1 Axes>"
      ]
     },
     "metadata": {},
     "output_type": "display_data"
    }
   ],
   "source": [
    "# Count of fraud vs non-fraud\n",
    "fraud_counts = dataset_for_analysis.groupBy(\"is_fraud\").count().collect()\n",
    "\n",
    "# Extract data for plotting\n",
    "labels = ['Non-Fraud', 'Fraud']\n",
    "fraud_values = [row['count'] for row in fraud_counts]\n",
    "\n",
    "# Plotting\n",
    "plt.figure(figsize=(8, 6))\n",
    "plt.bar(labels, fraud_values, color=['blue', 'orange'])\n",
    "plt.title('Fraud vs Non-Fraud Transactions')\n",
    "plt.xlabel('Transaction Type')\n",
    "plt.ylabel('Count')\n",
    "plt.show()"
   ]
  },
  {
   "cell_type": "code",
   "execution_count": null,
   "id": "635e4996-16e6-4a31-9703-1e4b4bb479d0",
   "metadata": {},
   "outputs": [],
   "source": []
  },
  {
   "cell_type": "markdown",
   "id": "eb900b41-fe03-4748-b6df-9b37f653892e",
   "metadata": {},
   "source": [
    "### Transaction Amount Distribution:\n",
    "- **Visualizations:**  \n",
    "   - Histogram or KDE plot to show the distribution of transaction amounts (amt).\n",
    "- **Insights:**\n",
    "   - Detect outliers or unusual patterns in transaction amounts."
   ]
  },
  {
   "cell_type": "code",
   "execution_count": 46,
   "id": "134e5092-8388-4c50-9548-93d4a7ef3b44",
   "metadata": {},
   "outputs": [
    {
     "name": "stderr",
     "output_type": "stream",
     "text": [
      "                                                                                \r"
     ]
    },
    {
     "data": {
      "image/png": "[encoded data removed]",
      "text/plain": [
       "<Figure size 1000x600 with 1 Axes>"
      ]
     },
     "metadata": {},
     "output_type": "display_data"
    }
   ],
   "source": [
    "# Collect transaction amount data\n",
    "amt_data = dataset_for_analysis.select(\"amt\").rdd.flatMap(lambda x: x).collect()\n",
    "\n",
    "# Plot transaction amount distribution\n",
    "plt.figure(figsize=(10, 6))\n",
    "plt.hist(amt_data, bins=50, color='skyblue')\n",
    "plt.title('Distribution of Transaction Amounts')\n",
    "plt.xlabel('Transaction Amount')\n",
    "plt.ylabel('Frequency')\n",
    "plt.show()"
   ]
  },
  {
   "cell_type": "code",
   "execution_count": null,
   "id": "bbd628d0-a829-463f-8062-d369da849a34",
   "metadata": {},
   "outputs": [],
   "source": []
  },
  {
   "cell_type": "markdown",
   "id": "6b308cf3-58cb-4e58-ac74-1f75bb019a45",
   "metadata": {},
   "source": [
    "### Merchant Category Analysis:\n",
    "- **Visualizations:**  \n",
    "   - Bar plot of transaction counts by merchant category (category)\n",
    "   - Mean/median transaction amounts by category.\n",
    "- **Insights:**\n",
    "   - Spot categories with frequent transactions and high/low average transaction values."
   ]
  },
  {
   "cell_type": "code",
   "execution_count": 48,
   "id": "60441fbe-1265-416e-b98f-e591893662cc",
   "metadata": {},
   "outputs": [
    {
     "name": "stderr",
     "output_type": "stream",
     "text": [
      "                                                                                \r"
     ]
    },
    {
     "data": {
      "image/png": "[encoded data removed]",
      "text/plain": [
       "<Figure size 1200x800 with 1 Axes>"
      ]
     },
     "metadata": {},
     "output_type": "display_data"
    }
   ],
   "source": [
    "# Group by merchant category and count transactions\n",
    "category_counts = dataset_for_analysis.groupBy(\"category\").count().orderBy(\"count\", ascending=True).limit(10).collect()\n",
    "\n",
    "# Extract data for plotting\n",
    "categories = [row['category'] for row in category_counts]\n",
    "counts = [row['count'] for row in category_counts]\n",
    "\n",
    "# Plotting\n",
    "plt.figure(figsize=(12, 8))\n",
    "plt.barh(categories, counts, color='green')\n",
    "plt.title('Top 10 Merchant Categories by Transaction Count')\n",
    "plt.xlabel('Number of Transactions')\n",
    "plt.ylabel('Merchant Category')\n",
    "plt.show()"
   ]
  },
  {
   "cell_type": "markdown",
   "id": "e740caec-52fd-496f-8c14-e564a1ae1a58",
   "metadata": {},
   "source": []
  },
  {
   "cell_type": "markdown",
   "id": "58f8bd31-64ed-4290-82cb-aa3715386c1c",
   "metadata": {},
   "source": [
    "### Time-Based Patterns:\n",
    "- **Visualizations:**  \n",
    "   - Time series plot of transactions over time using trans_date_trans_time\n",
    "- **Insights:**\n",
    "   - Detect trends, spikes, or seasonality in transaction volumes over time."
   ]
  },
  {
   "cell_type": "code",
   "execution_count": 49,
   "id": "a821c59e-2935-498a-bdf6-f19e399e48a9",
   "metadata": {},
   "outputs": [
    {
     "name": "stderr",
     "output_type": "stream",
     "text": [
      "                                                                                \r"
     ]
    },
    {
     "data": {
      "image/png": "[encoded data removed]",
      "text/plain": [
       "<Figure size 1200x600 with 1 Axes>"
      ]
     },
     "metadata": {},
     "output_type": "display_data"
    }
   ],
   "source": [
    "# Group transactions by year-month\n",
    "transaction_trend = dataset_for_analysis.groupBy(\"trans_year_month\").count().orderBy(\"trans_year_month\").collect()\n",
    "\n",
    "# Extract data for plotting\n",
    "months = [row['trans_year_month'] for row in transaction_trend]\n",
    "transaction_counts = [row['count'] for row in transaction_trend]\n",
    "\n",
    "# Plotting\n",
    "plt.figure(figsize=(12, 6))\n",
    "plt.plot(months, transaction_counts, color='purple')\n",
    "plt.title('Transaction Trend Over Time')\n",
    "plt.xlabel('Year-Month')\n",
    "plt.ylabel('Number of Transactions')\n",
    "plt.xticks(rotation=45)\n",
    "plt.show()"
   ]
  },
  {
   "cell_type": "code",
   "execution_count": null,
   "id": "d321c4d0-ec98-4787-8eac-2513f93a7301",
   "metadata": {},
   "outputs": [],
   "source": []
  },
  {
   "cell_type": "markdown",
   "id": "5ad2eee1-a8e2-4ed8-943f-ed1000273630",
   "metadata": {},
   "source": [
    "### Fraud Detection by Merchant Category:\n",
    "- You can investigate which merchant categories have the highest number of fraud cases. This could help identify vulnerable categories."
   ]
  },
  {
   "cell_type": "code",
   "execution_count": 51,
   "id": "62e0b93d-8279-42d7-b72d-0a7d542d1f43",
   "metadata": {},
   "outputs": [
    {
     "data": {
      "image/png": "[encoded data removed]",
      "text/plain": [
       "<Figure size 1200x800 with 1 Axes>"
      ]
     },
     "metadata": {},
     "output_type": "display_data"
    }
   ],
   "source": [
    "# Group by category and fraud cases to see which categories have the most fraud\n",
    "fraud_by_category = dataset_for_analysis.groupBy(\"category\", \"is_fraud\").count().filter(col(\"is_fraud\") == 1).orderBy(\"count\", ascending=True).limit(10).collect()\n",
    "\n",
    "# Extract data for plotting\n",
    "categories = [row['category'] for row in fraud_by_category]\n",
    "fraud_counts = [row['count'] for row in fraud_by_category]\n",
    "\n",
    "# Plotting\n",
    "plt.figure(figsize=(12, 8))\n",
    "plt.barh(categories, fraud_counts, color='red')\n",
    "plt.title('Top 10 Merchant Categories by Fraud Cases')\n",
    "plt.xlabel('Number of Fraud Cases')\n",
    "plt.ylabel('Merchant Category')\n",
    "plt.show()"
   ]
  },
  {
   "cell_type": "code",
   "execution_count": null,
   "id": "2e790ab8-266c-4ed2-a95b-f12b2cda81f2",
   "metadata": {},
   "outputs": [],
   "source": []
  },
  {
   "cell_type": "markdown",
   "id": "bd9fec49-b6ce-4e5e-b638-c28c74bcc84a",
   "metadata": {},
   "source": [
    "### Transaction Amounts by State:\n",
    "- You can investigate which merchant categories have the highest number of fraud cases. This could help identify vulnerable categories."
   ]
  },
  {
   "cell_type": "code",
   "execution_count": 52,
   "id": "43349898-148c-4091-92ff-307fd472647d",
   "metadata": {},
   "outputs": [
    {
     "name": "stdout",
     "output_type": "stream",
     "text": [
      "The history saving thread hit an unexpected error (OperationalError('attempt to write a readonly database')).History will not be written to the database.\n"
     ]
    },
    {
     "name": "stderr",
     "output_type": "stream",
     "text": [
      "                                                                                \r"
     ]
    },
    {
     "data": {
      "image/png": "[encoded data removed]",
      "text/plain": [
       "<Figure size 1200x800 with 1 Axes>"
      ]
     },
     "metadata": {},
     "output_type": "display_data"
    }
   ],
   "source": [
    "# Group by state and sum transaction amounts\n",
    "amount_by_state = dataset_for_analysis.groupBy(\"state\").sum(\"amt\").orderBy(\"sum(amt)\", ascending=False).limit(10).collect()\n",
    "\n",
    "# Extract data for plotting\n",
    "states = [row['state'] for row in amount_by_state]\n",
    "amounts = [row['sum(amt)'] for row in amount_by_state]\n",
    "\n",
    "# Plotting\n",
    "plt.figure(figsize=(12, 8))\n",
    "plt.bar(states, amounts, color='blue')\n",
    "plt.title('Top 10 States by Total Transaction Amount')\n",
    "plt.xlabel('State')\n",
    "plt.ylabel('Total Transaction Amount')\n",
    "plt.show()"
   ]
  },
  {
   "cell_type": "code",
   "execution_count": null,
   "id": "cb6d624f-3587-4c27-9543-e45a3c9054bd",
   "metadata": {},
   "outputs": [],
   "source": []
  },
  {
   "cell_type": "markdown",
   "id": "82d40755-799b-40c8-8287-e5a2d6305a0b",
   "metadata": {},
   "source": [
    "### Age Analysis of Cardholders:\n",
    "- You can investigate which merchant categories have the highest number of fraud cases. This could help identify vulnerable categories."
   ]
  },
  {
   "cell_type": "code",
   "execution_count": 54,
   "id": "c2e1757e-49b6-4ef2-ade9-e6d8e024d2c5",
   "metadata": {},
   "outputs": [
    {
     "name": "stderr",
     "output_type": "stream",
     "text": [
      "                                                                                \r"
     ]
    },
    {
     "data": {
      "image/png": "[encoded data removed]",
      "text/plain": [
       "<Figure size 1200x600 with 1 Axes>"
      ]
     },
     "metadata": {},
     "output_type": "display_data"
    }
   ],
   "source": [
    "# Calculate age of cardholders\n",
    "dataset_for_analysis = dataset_for_analysis.withColumn(\"age\", year(current_date()) - year(col(\"dob\")))\n",
    "\n",
    "# Group by age and count transactions\n",
    "age_distribution = dataset_for_analysis.groupBy(\"age\").count().orderBy(\"age\").collect()\n",
    "\n",
    "# Extract data for plotting\n",
    "ages = [row['age'] for row in age_distribution]\n",
    "age_counts = [row['count'] for row in age_distribution]\n",
    "\n",
    "# Plotting\n",
    "plt.figure(figsize=(12, 6))\n",
    "plt.plot(ages, age_counts, color='green')\n",
    "plt.title('Transaction Distribution by Age of Cardholders')\n",
    "plt.xlabel('Age')\n",
    "plt.ylabel('Number of Transactions')\n",
    "plt.show()"
   ]
  },
  {
   "cell_type": "code",
   "execution_count": null,
   "id": "23173b28-813f-4d52-88a6-17056c5b5af2",
   "metadata": {},
   "outputs": [],
   "source": []
  },
  {
   "cell_type": "markdown",
   "id": "e946f670-23b8-463c-be7a-37d148bca932",
   "metadata": {},
   "source": [
    "Some other possible analysis could be done, viz:\n",
    "\n",
    "### Demographic Insights:\n",
    "- **Visualizations:**  \n",
    "   - Bar plot of transaction counts by gender (gender) and occupation (job).\n",
    "- **Insights:**\n",
    "   - See if certain demographics (gender, job) are associated with higher transaction amounts or fraud occurrences.\n",
    " \n",
    "### Geographical Insights:\n",
    "- **Visualizations:**  \n",
    "   - Heatmap of transaction volumes based on state or city_pop to visualize transaction density.\n",
    "   - Scatter plot of merchant latitude (merch_lat) and longitude (merch_long) to see geographical spread.\n",
    "- **Insights:**\n",
    "   - Explore if certain regions have a higher incidence of fraud or transaction activity."
   ]
  },
  {
   "cell_type": "code",
   "execution_count": 50,
   "id": "5baf91b8-eac7-4689-8212-751f3316f405",
   "metadata": {},
   "outputs": [
    {
     "name": "stderr",
     "output_type": "stream",
     "text": [
      "                                                                                \r"
     ]
    }
   ],
   "source": [
    "# we might need to save the processed/transformed clean data to a storage somewhere\n",
    "output_path = \"data/cleaned_transaction_data\"\n",
    "\n",
    "# Write the DataFrame to CSV\n",
    "final_flattend_df_with_human_redable_date.write.option(\"header\", True).option(\"delimiter\", \",\").mode(\"overwrite\").csv(output_path)"
   ]
  },
  {
   "cell_type": "code",
   "execution_count": null,
   "id": "fd78bf6c-3339-4ba7-9c4a-826ed42f97b1",
   "metadata": {},
   "outputs": [],
   "source": []
  }
 ],
 "metadata": {
  "kernelspec": {
   "display_name": "Python 3 (ipykernel)",
   "language": "python",
   "name": "python3"
  },
  "language_info": {
   "codemirror_mode": {
    "name": "ipython",
    "version": 3
   },
   "file_extension": ".py",
   "mimetype": "text/x-python",
   "name": "python",
   "nbconvert_exporter": "python",
   "pygments_lexer": "ipython3",
   "version": "3.11.1"
  }
 },
 "nbformat": 4,
 "nbformat_minor": 5
}
